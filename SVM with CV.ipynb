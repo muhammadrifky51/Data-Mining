{
 "cells": [
  {
   "cell_type": "code",
   "execution_count": 1,
   "metadata": {},
   "outputs": [],
   "source": [
    "import pandas as pd\n",
    "import numpy as np\n",
    "from sklearn import svm\n",
    "from sklearn.preprocessing import StandardScaler\n",
    "from sklearn.model_selection import GridSearchCV, train_test_split, cross_val_score\n",
    "from sklearn import model_selection, tree\n",
    "from sklearn.metrics import accuracy_score,classification_report,confusion_matrix\n",
    "from sklearn.svm import SVC\n",
    "from imblearn.over_sampling import SMOTE\n",
    "from imblearn.under_sampling import NearMiss\n",
    "from imblearn.combine import SMOTEENN"
   ]
  },
  {
   "cell_type": "code",
   "execution_count": 2,
   "metadata": {},
   "outputs": [
    {
     "name": "stdout",
     "output_type": "stream",
     "text": [
      "GENDER     category\n",
      "AGEGRP1    category\n",
      "NGROUP     category\n",
      "BILL        float64\n",
      "REGION     category\n",
      "ORGYN      category\n",
      "AFFL          int64\n",
      "LTIME         int64\n",
      "dtype: object\n",
      "\n",
      "         GENDER  AGEGRP1   NGROUP           BILL   REGION    ORGYN  \\\n",
      "count   22223.0  22223.0  22223.0   22223.000000  22223.0  22223.0   \n",
      "unique      3.0      3.0      7.0            NaN      5.0      2.0   \n",
      "top         2.0      2.0      3.0            NaN      4.0      0.0   \n",
      "freq    12149.0  10439.0   4717.0            NaN   8829.0  16718.0   \n",
      "mean        NaN      NaN      NaN    4420.590041      NaN      NaN   \n",
      "std         NaN      NaN      NaN    7559.047522      NaN      NaN   \n",
      "min         NaN      NaN      NaN       0.010000      NaN      NaN   \n",
      "25%         NaN      NaN      NaN       0.010000      NaN      NaN   \n",
      "50%         NaN      NaN      NaN    2000.000000      NaN      NaN   \n",
      "75%         NaN      NaN      NaN    6000.000000      NaN      NaN   \n",
      "max         NaN      NaN      NaN  296313.850000      NaN      NaN   \n",
      "\n",
      "                AFFL         LTIME  \n",
      "count   22223.000000  22223.000000  \n",
      "unique           NaN           NaN  \n",
      "top              NaN           NaN  \n",
      "freq             NaN           NaN  \n",
      "mean        8.707285      6.559735  \n",
      "std         3.395368      4.645552  \n",
      "min         1.000000      0.000000  \n",
      "25%         6.000000      4.000000  \n",
      "50%         8.000000      5.000000  \n",
      "75%        11.000000      8.000000  \n",
      "max        30.000000     39.000000  \n"
     ]
    }
   ],
   "source": [
    "df=pd.read_csv(\"D:/College/Semester 7/Data Mining/final.csv\")\n",
    "df=df.drop(\"CLASS\",1)\n",
    "for i in ['GENDER','AGEGRP1','NGROUP','REGION','ORGYN']:df[i]=df[i].astype('category') #Fixing variable type\n",
    "print(df.dtypes)\n",
    "#print(df.head())\n",
    "print()\n",
    "print(df.describe(include='all'))"
   ]
  },
  {
   "cell_type": "code",
   "execution_count": 3,
   "metadata": {},
   "outputs": [
    {
     "name": "stdout",
     "output_type": "stream",
     "text": [
      "  GENDER AGEGRP1 NGROUP REGION ORGYN      BILL      AFFL     LTIME\n",
      "0      3       3      2      2     0 -0.187937  0.969788  6.983237\n",
      "1      1       1      4      1     1  0.076654 -0.208314  0.525302\n",
      "2      2       3      2      2     0  0.076654 -1.091890  0.525302\n",
      "3      2       3      2      1     0 -0.534549 -0.797365  6.337444\n",
      "4      1       3      2      5     0  0.076654  0.086212  0.310038\n",
      "(15556, 7) (6667, 7)\n"
     ]
    },
    {
     "name": "stderr",
     "output_type": "stream",
     "text": [
      "c:\\users\\reza ilham\\appdata\\local\\programs\\python\\python36-32\\lib\\site-packages\\sklearn\\preprocessing\\data.py:617: DataConversionWarning: Data with input dtype int64 were all converted to float64 by StandardScaler.\n",
      "  return self.partial_fit(X, y)\n",
      "c:\\users\\reza ilham\\appdata\\local\\programs\\python\\python36-32\\lib\\site-packages\\sklearn\\base.py:462: DataConversionWarning: Data with input dtype int64 were all converted to float64 by StandardScaler.\n",
      "  return self.fit(X, **fit_params).transform(X)\n",
      "c:\\users\\reza ilham\\appdata\\local\\programs\\python\\python36-32\\lib\\site-packages\\sklearn\\preprocessing\\data.py:617: DataConversionWarning: Data with input dtype int64 were all converted to float64 by StandardScaler.\n",
      "  return self.partial_fit(X, y)\n",
      "c:\\users\\reza ilham\\appdata\\local\\programs\\python\\python36-32\\lib\\site-packages\\sklearn\\base.py:462: DataConversionWarning: Data with input dtype int64 were all converted to float64 by StandardScaler.\n",
      "  return self.fit(X, **fit_params).transform(X)\n"
     ]
    }
   ],
   "source": [
    "#Standardization of numeric variables\n",
    "scaler=StandardScaler()\n",
    "\n",
    "X1=df.BILL\n",
    "X1=pd.DataFrame(X1)\n",
    "X1=scaler.fit_transform(X1)\n",
    "df=df.drop(\"BILL\",axis=1)\n",
    "df[\"BILL\"]=X1\n",
    "\n",
    "X1=df.AFFL\n",
    "X1=pd.DataFrame(X1)\n",
    "X1=scaler.fit_transform(X1)\n",
    "df=df.drop(\"AFFL\",axis=1)\n",
    "df[\"AFFL\"]=X1\n",
    "\n",
    "X1=df.LTIME\n",
    "X1=pd.DataFrame(X1)\n",
    "X1=scaler.fit_transform(X1)\n",
    "df=df.drop(\"LTIME\",axis=1)\n",
    "df[\"LTIME\"]=X1\n",
    "\n",
    "print(df.head())\n",
    "\n",
    "#Separating dataset into training data and test data\n",
    "X = df.drop(\"ORGYN\",1)\n",
    "Y = df.ORGYN\n",
    "seed = 9\n",
    "X_train, X_test, Y_train, Y_test = train_test_split(X, Y, test_size=.3,random_state=seed)\n",
    "print(X_train.shape, X_test.shape)"
   ]
  },
  {
   "cell_type": "code",
   "execution_count": 4,
   "metadata": {},
   "outputs": [
    {
     "ename": "SyntaxError",
     "evalue": "invalid syntax (<ipython-input-4-452df9d98bb7>, line 7)",
     "output_type": "error",
     "traceback": [
      "\u001b[1;36m  File \u001b[1;32m\"<ipython-input-4-452df9d98bb7>\"\u001b[1;36m, line \u001b[1;32m7\u001b[0m\n\u001b[1;33m    crossval1=(SVMs, cv=10, X=X1_train,y=Y1_train )\u001b[0m\n\u001b[1;37m                       ^\u001b[0m\n\u001b[1;31mSyntaxError\u001b[0m\u001b[1;31m:\u001b[0m invalid syntax\n"
     ]
    }
   ],
   "source": [
    "#Oversampling training data with SMOTE due to imbalance data problem\n",
    "sm=SMOTE(random_state=1)\n",
    "X1_train,Y1_train=sm.fit_resample(X_train,Y_train)\n",
    "\n",
    "#SVM with SMOTE\n",
    "SVMs = svm.SVC(C = 10**5, kernel = 'linear')\n",
    "crossval1=cross_val_score(SVMs, cv=10, X=X1_train,y=Y1_train )\n",
    "SVMs_predict = crossval1.predict(X_test)\n",
    "print('Akurasi = ', accuracy_score(Y_test, SVMs_predict))\n",
    "print(confusion_matrix(Y_test, SVMs_predict))\n",
    "print(classification_report(Y_test, SVMs_predict))\n",
    "\n",
    "#Combination of oversampling and undersampling with SMOTEENN\n",
    "smo = SMOTEENN(random_state=1)\n",
    "X3_train,Y3_train=smo.fit_resample(X_train,Y_train)\n",
    "\n",
    "#SVM with SMOTEENN\n",
    "SVMsm = svm.SVC(C = 10**5, kernel = 'linear')\n",
    "crossval2=cross_val_score(SVMsm, cv=10, X=X3_train,y=Y3_train )\n",
    "SVMsm_predict = crossval2.predict(X_test)\n",
    "print('Akurasi = ', accuracy_score(Y_test, SVMsm_predict))\n",
    "print(confusion_matrix(Y_test, SVMsm_predict))\n",
    "print(classification_report(Y_test, SVMsm_predict))"
   ]
  }
 ],
 "metadata": {
  "kernelspec": {
   "display_name": "Python 3",
   "language": "python",
   "name": "python3"
  },
  "language_info": {
   "codemirror_mode": {
    "name": "ipython",
    "version": 3
   },
   "file_extension": ".py",
   "mimetype": "text/x-python",
   "name": "python",
   "nbconvert_exporter": "python",
   "pygments_lexer": "ipython3",
   "version": "3.6.5"
  }
 },
 "nbformat": 4,
 "nbformat_minor": 2
}
