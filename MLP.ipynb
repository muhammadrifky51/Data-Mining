{
 "cells": [
  {
   "cell_type": "code",
   "execution_count": 1,
   "metadata": {},
   "outputs": [],
   "source": [
    "import pandas as pd\n",
    "import numpy as np\n",
    "from sklearn.linear_model import Perceptron\n",
    "from sklearn.preprocessing import StandardScaler\n",
    "from sklearn.neural_network import MLPClassifier\n",
    "from sklearn.model_selection import GridSearchCV\n",
    "from imblearn.over_sampling import SMOTE\n",
    "from sklearn import model_selection, tree\n",
    "from sklearn.ensemble import RandomForestClassifier\n",
    "from sklearn.metrics import accuracy_score,classification_report,confusion_matrix"
   ]
  },
  {
   "cell_type": "code",
   "execution_count": 2,
   "metadata": {},
   "outputs": [
    {
     "name": "stdout",
     "output_type": "stream",
     "text": [
      "                BILL          AFFL         LTIME\n",
      "count   22223.000000  22223.000000  22223.000000\n",
      "mean     4420.590041      8.707285      6.559735\n",
      "std      7559.047522      3.395368      4.645552\n",
      "min         0.010000      1.000000      0.000000\n",
      "25%         0.010000      6.000000      4.000000\n",
      "50%      2000.000000      8.000000      5.000000\n",
      "75%      6000.000000     11.000000      8.000000\n",
      "max    296313.850000     30.000000     39.000000\n"
     ]
    }
   ],
   "source": [
    "data=pd.read_csv(\"final_.csv\")\n",
    "df=pd.DataFrame(data)\n",
    "\n",
    "df['GENDER'] = df['GENDER'].astype('category')\n",
    "df['AGEGRP1'] = df['AGEGRP1'].astype('category')\n",
    "df['NGROUP'] = df['NGROUP'].astype('category')\n",
    "df['REGION'] = df['REGION'].astype('category')\n",
    "df['CLASS'] = df['CLASS'].astype('category')\n",
    "df['ORGYN'] = df['ORGYN'].astype('category')\n",
    "\n",
    "print(df.describe())"
   ]
  },
  {
   "cell_type": "code",
   "execution_count": 3,
   "metadata": {},
   "outputs": [
    {
     "name": "stdout",
     "output_type": "stream",
     "text": [
      "Parameter Terbaik 1: {'alpha': 0.001}\n",
      "Estimasi akurasi 1: 0.6378030044383749\n",
      "Prediksi kelas 1: [1 1 1 ... 0 0 1]\n"
     ]
    }
   ],
   "source": [
    "sm=SMOTE(random_state=12, ratio=1.0)\n",
    "\n",
    "# Separate Data\n",
    "X = df[['GENDER','AGEGRP1','NGROUP','BILL','REGION','CLASS','AFFL','LTIME']]\n",
    "Y = df['ORGYN']\n",
    "seed = 9\n",
    "validation_size = 0.3\n",
    "X_train, X_test, Y_train, Y_test = model_selection.train_test_split(X, Y, test_size=validation_size, random_state=seed)\n",
    "X_train,Y_train=sm.fit_resample(X_train,Y_train)\n",
    "\n",
    "#MLP Classifier\n",
    "nn=MLPClassifier(solver=\"lbfgs\")\n",
    "param_grid={\n",
    "    'alpha':10.0** np.arange(-7,-1),}\n",
    "grid=GridSearchCV(nn,cv=5,param_grid=param_grid)\n",
    "grid.fit(X_train,Y_train)\n",
    "prediksi=grid.predict(X_test)\n",
    "print('Parameter Terbaik 1: %s' %grid.best_params_)\n",
    "print('Estimasi akurasi 1: %s' %grid.best_score_)\n",
    "print('Prediksi kelas 1: %s' %prediksi)\n"
   ]
  },
  {
   "cell_type": "code",
   "execution_count": 4,
   "metadata": {},
   "outputs": [
    {
     "name": "stdout",
     "output_type": "stream",
     "text": [
      "Akurasi =  0.6844157792110395\n",
      "[[3485 1517]\n",
      " [ 587 1078]]\n",
      "              precision    recall  f1-score   support\n",
      "\n",
      "           0       0.86      0.70      0.77      5002\n",
      "           1       0.42      0.65      0.51      1665\n",
      "\n",
      "   micro avg       0.68      0.68      0.68      6667\n",
      "   macro avg       0.64      0.67      0.64      6667\n",
      "weighted avg       0.75      0.68      0.70      6667\n",
      "\n"
     ]
    }
   ],
   "source": [
    "print('Akurasi = ', accuracy_score(Y_test, prediksi))\n",
    "print(confusion_matrix(Y_test, prediksi))\n",
    "print(classification_report(Y_test, prediksi))"
   ]
  },
  {
   "cell_type": "code",
   "execution_count": null,
   "metadata": {},
   "outputs": [],
   "source": []
  },
  {
   "cell_type": "code",
   "execution_count": null,
   "metadata": {},
   "outputs": [],
   "source": []
  },
  {
   "cell_type": "code",
   "execution_count": null,
   "metadata": {},
   "outputs": [],
   "source": []
  },
  {
   "cell_type": "code",
   "execution_count": null,
   "metadata": {},
   "outputs": [],
   "source": []
  },
  {
   "cell_type": "code",
   "execution_count": null,
   "metadata": {},
   "outputs": [],
   "source": []
  },
  {
   "cell_type": "code",
   "execution_count": null,
   "metadata": {},
   "outputs": [],
   "source": []
  },
  {
   "cell_type": "code",
   "execution_count": null,
   "metadata": {},
   "outputs": [],
   "source": []
  }
 ],
 "metadata": {
  "kernelspec": {
   "display_name": "Python 3",
   "language": "python",
   "name": "python3"
  },
  "language_info": {
   "codemirror_mode": {
    "name": "ipython",
    "version": 3
   },
   "file_extension": ".py",
   "mimetype": "text/x-python",
   "name": "python",
   "nbconvert_exporter": "python",
   "pygments_lexer": "ipython3",
   "version": "3.6.5"
  }
 },
 "nbformat": 4,
 "nbformat_minor": 2
}
