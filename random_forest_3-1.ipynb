{
 "cells": [
  {
   "cell_type": "code",
   "execution_count": 1,
   "metadata": {},
   "outputs": [],
   "source": [
    "import pandas as pd\n",
    "import numpy as np\n",
    "from sklearn.preprocessing import StandardScaler\n",
    "from sklearn import model_selection, tree,metrics\n",
    "from sklearn.ensemble import RandomForestClassifier\n",
    "from sklearn.metrics import classification_report\n",
    "from sklearn.metrics import confusion_matrix\n",
    "from sklearn.metrics import accuracy_score\n",
    "from sklearn.naive_bayes import GaussianNB\n",
    "from imblearn.over_sampling import SMOTE\n",
    "from imblearn.under_sampling import NearMiss\n",
    "from imblearn.combine import SMOTEENN\n",
    "from sklearn.metrics import roc_auc_score\n",
    "from sklearn.model_selection import RandomizedSearchCV, cross_validate,StratifiedKFold, cross_val_score\n",
    "from imblearn.pipeline import make_pipeline, Pipeline\n",
    "from sklearn.metrics import make_scorer, accuracy_score, precision_score, recall_score, f1_score\n",
    "import graphviz, pandas as pd, matplotlib.pyplot as plt, numpy as np, seaborn as sns \n",
    "sns.set(style=\"ticks\", color_codes=True) \n",
    "\n",
    "from pprint import pprint"
   ]
  },
  {
   "cell_type": "code",
   "execution_count": 2,
   "metadata": {},
   "outputs": [
    {
     "data": {
      "text/html": [
       "<div>\n",
       "<style scoped>\n",
       "    .dataframe tbody tr th:only-of-type {\n",
       "        vertical-align: middle;\n",
       "    }\n",
       "\n",
       "    .dataframe tbody tr th {\n",
       "        vertical-align: top;\n",
       "    }\n",
       "\n",
       "    .dataframe thead th {\n",
       "        text-align: right;\n",
       "    }\n",
       "</style>\n",
       "<table border=\"1\" class=\"dataframe\">\n",
       "  <thead>\n",
       "    <tr style=\"text-align: right;\">\n",
       "      <th></th>\n",
       "      <th>GENDER</th>\n",
       "      <th>AGEGRP1</th>\n",
       "      <th>NGROUP</th>\n",
       "      <th>BILL</th>\n",
       "      <th>REGION</th>\n",
       "      <th>CLASS</th>\n",
       "      <th>ORGYN</th>\n",
       "      <th>AFFL</th>\n",
       "      <th>LTIME</th>\n",
       "    </tr>\n",
       "  </thead>\n",
       "  <tbody>\n",
       "    <tr>\n",
       "      <th>0</th>\n",
       "      <td>3</td>\n",
       "      <td>3</td>\n",
       "      <td>2</td>\n",
       "      <td>3000.00</td>\n",
       "      <td>2</td>\n",
       "      <td>2</td>\n",
       "      <td>0</td>\n",
       "      <td>12</td>\n",
       "      <td>39</td>\n",
       "    </tr>\n",
       "    <tr>\n",
       "      <th>1</th>\n",
       "      <td>1</td>\n",
       "      <td>1</td>\n",
       "      <td>4</td>\n",
       "      <td>5000.01</td>\n",
       "      <td>1</td>\n",
       "      <td>3</td>\n",
       "      <td>1</td>\n",
       "      <td>8</td>\n",
       "      <td>9</td>\n",
       "    </tr>\n",
       "    <tr>\n",
       "      <th>2</th>\n",
       "      <td>2</td>\n",
       "      <td>3</td>\n",
       "      <td>2</td>\n",
       "      <td>5000.01</td>\n",
       "      <td>2</td>\n",
       "      <td>3</td>\n",
       "      <td>0</td>\n",
       "      <td>5</td>\n",
       "      <td>9</td>\n",
       "    </tr>\n",
       "    <tr>\n",
       "      <th>3</th>\n",
       "      <td>2</td>\n",
       "      <td>3</td>\n",
       "      <td>2</td>\n",
       "      <td>380.00</td>\n",
       "      <td>1</td>\n",
       "      <td>2</td>\n",
       "      <td>0</td>\n",
       "      <td>6</td>\n",
       "      <td>36</td>\n",
       "    </tr>\n",
       "    <tr>\n",
       "      <th>4</th>\n",
       "      <td>1</td>\n",
       "      <td>3</td>\n",
       "      <td>2</td>\n",
       "      <td>5000.01</td>\n",
       "      <td>5</td>\n",
       "      <td>3</td>\n",
       "      <td>0</td>\n",
       "      <td>9</td>\n",
       "      <td>8</td>\n",
       "    </tr>\n",
       "  </tbody>\n",
       "</table>\n",
       "</div>"
      ],
      "text/plain": [
       "   GENDER  AGEGRP1  NGROUP     BILL  REGION  CLASS  ORGYN  AFFL  LTIME\n",
       "0       3        3       2  3000.00       2      2      0    12     39\n",
       "1       1        1       4  5000.01       1      3      1     8      9\n",
       "2       2        3       2  5000.01       2      3      0     5      9\n",
       "3       2        3       2   380.00       1      2      0     6     36\n",
       "4       1        3       2  5000.01       5      3      0     9      8"
      ]
     },
     "execution_count": 2,
     "metadata": {},
     "output_type": "execute_result"
    }
   ],
   "source": [
    "df=pd.read_csv(\"final_.csv\")\n",
    "df.head()"
   ]
  },
  {
   "cell_type": "code",
   "execution_count": 3,
   "metadata": {},
   "outputs": [
    {
     "data": {
      "text/plain": [
       "GENDER       int64\n",
       "AGEGRP1      int64\n",
       "NGROUP       int64\n",
       "BILL       float64\n",
       "REGION       int64\n",
       "CLASS        int64\n",
       "ORGYN        int64\n",
       "AFFL         int64\n",
       "LTIME        int64\n",
       "dtype: object"
      ]
     },
     "execution_count": 3,
     "metadata": {},
     "output_type": "execute_result"
    }
   ],
   "source": [
    "df.dtypes"
   ]
  },
  {
   "cell_type": "code",
   "execution_count": 4,
   "metadata": {},
   "outputs": [
    {
     "data": {
      "text/plain": [
       "GENDER     category\n",
       "AGEGRP1    category\n",
       "NGROUP     category\n",
       "BILL        float64\n",
       "REGION     category\n",
       "CLASS      category\n",
       "ORGYN      category\n",
       "AFFL          int64\n",
       "LTIME         int64\n",
       "dtype: object"
      ]
     },
     "execution_count": 4,
     "metadata": {},
     "output_type": "execute_result"
    }
   ],
   "source": [
    "#Fixing variable type\n",
    "\n",
    "df['GENDER'] = df['GENDER'].astype('category')\n",
    "df['AGEGRP1'] = df['AGEGRP1'].astype('category')\n",
    "df['NGROUP'] = df['NGROUP'].astype('category')\n",
    "df['REGION'] = df['REGION'].astype('category')\n",
    "df['CLASS'] = df['CLASS'].astype('category')\n",
    "df['ORGYN'] = df['ORGYN'].astype('category')\n",
    "df.dtypes"
   ]
  },
  {
   "cell_type": "code",
   "execution_count": 5,
   "metadata": {},
   "outputs": [
    {
     "data": {
      "text/plain": [
       "0    16718\n",
       "1     5505\n",
       "Name: ORGYN, dtype: int64"
      ]
     },
     "execution_count": 5,
     "metadata": {},
     "output_type": "execute_result"
    }
   ],
   "source": [
    "#Checking the imbalance on ORGYN\n",
    "\n",
    "df.ORGYN.value_counts()"
   ]
  },
  {
   "cell_type": "code",
   "execution_count": 6,
   "metadata": {},
   "outputs": [
    {
     "data": {
      "text/html": [
       "<div>\n",
       "<style scoped>\n",
       "    .dataframe tbody tr th:only-of-type {\n",
       "        vertical-align: middle;\n",
       "    }\n",
       "\n",
       "    .dataframe tbody tr th {\n",
       "        vertical-align: top;\n",
       "    }\n",
       "\n",
       "    .dataframe thead th {\n",
       "        text-align: right;\n",
       "    }\n",
       "</style>\n",
       "<table border=\"1\" class=\"dataframe\">\n",
       "  <thead>\n",
       "    <tr style=\"text-align: right;\">\n",
       "      <th></th>\n",
       "      <th>GENDER</th>\n",
       "      <th>AGEGRP1</th>\n",
       "      <th>NGROUP</th>\n",
       "      <th>BILL</th>\n",
       "      <th>REGION</th>\n",
       "      <th>CLASS</th>\n",
       "      <th>ORGYN</th>\n",
       "      <th>AFFL</th>\n",
       "      <th>LTIME</th>\n",
       "    </tr>\n",
       "  </thead>\n",
       "  <tbody>\n",
       "    <tr>\n",
       "      <th>count</th>\n",
       "      <td>22223.0</td>\n",
       "      <td>22223.0</td>\n",
       "      <td>22223.0</td>\n",
       "      <td>22223.000000</td>\n",
       "      <td>22223.0</td>\n",
       "      <td>22223.0</td>\n",
       "      <td>22223.0</td>\n",
       "      <td>22223.000000</td>\n",
       "      <td>22223.000000</td>\n",
       "    </tr>\n",
       "    <tr>\n",
       "      <th>unique</th>\n",
       "      <td>3.0</td>\n",
       "      <td>3.0</td>\n",
       "      <td>7.0</td>\n",
       "      <td>NaN</td>\n",
       "      <td>5.0</td>\n",
       "      <td>4.0</td>\n",
       "      <td>2.0</td>\n",
       "      <td>NaN</td>\n",
       "      <td>NaN</td>\n",
       "    </tr>\n",
       "    <tr>\n",
       "      <th>top</th>\n",
       "      <td>2.0</td>\n",
       "      <td>2.0</td>\n",
       "      <td>3.0</td>\n",
       "      <td>NaN</td>\n",
       "      <td>4.0</td>\n",
       "      <td>2.0</td>\n",
       "      <td>0.0</td>\n",
       "      <td>NaN</td>\n",
       "      <td>NaN</td>\n",
       "    </tr>\n",
       "    <tr>\n",
       "      <th>freq</th>\n",
       "      <td>12149.0</td>\n",
       "      <td>10439.0</td>\n",
       "      <td>4717.0</td>\n",
       "      <td>NaN</td>\n",
       "      <td>8829.0</td>\n",
       "      <td>8572.0</td>\n",
       "      <td>16718.0</td>\n",
       "      <td>NaN</td>\n",
       "      <td>NaN</td>\n",
       "    </tr>\n",
       "    <tr>\n",
       "      <th>mean</th>\n",
       "      <td>NaN</td>\n",
       "      <td>NaN</td>\n",
       "      <td>NaN</td>\n",
       "      <td>4420.590041</td>\n",
       "      <td>NaN</td>\n",
       "      <td>NaN</td>\n",
       "      <td>NaN</td>\n",
       "      <td>8.707285</td>\n",
       "      <td>6.559735</td>\n",
       "    </tr>\n",
       "    <tr>\n",
       "      <th>std</th>\n",
       "      <td>NaN</td>\n",
       "      <td>NaN</td>\n",
       "      <td>NaN</td>\n",
       "      <td>7559.047522</td>\n",
       "      <td>NaN</td>\n",
       "      <td>NaN</td>\n",
       "      <td>NaN</td>\n",
       "      <td>3.395368</td>\n",
       "      <td>4.645552</td>\n",
       "    </tr>\n",
       "    <tr>\n",
       "      <th>min</th>\n",
       "      <td>NaN</td>\n",
       "      <td>NaN</td>\n",
       "      <td>NaN</td>\n",
       "      <td>0.010000</td>\n",
       "      <td>NaN</td>\n",
       "      <td>NaN</td>\n",
       "      <td>NaN</td>\n",
       "      <td>1.000000</td>\n",
       "      <td>0.000000</td>\n",
       "    </tr>\n",
       "    <tr>\n",
       "      <th>25%</th>\n",
       "      <td>NaN</td>\n",
       "      <td>NaN</td>\n",
       "      <td>NaN</td>\n",
       "      <td>0.010000</td>\n",
       "      <td>NaN</td>\n",
       "      <td>NaN</td>\n",
       "      <td>NaN</td>\n",
       "      <td>6.000000</td>\n",
       "      <td>4.000000</td>\n",
       "    </tr>\n",
       "    <tr>\n",
       "      <th>50%</th>\n",
       "      <td>NaN</td>\n",
       "      <td>NaN</td>\n",
       "      <td>NaN</td>\n",
       "      <td>2000.000000</td>\n",
       "      <td>NaN</td>\n",
       "      <td>NaN</td>\n",
       "      <td>NaN</td>\n",
       "      <td>8.000000</td>\n",
       "      <td>5.000000</td>\n",
       "    </tr>\n",
       "    <tr>\n",
       "      <th>75%</th>\n",
       "      <td>NaN</td>\n",
       "      <td>NaN</td>\n",
       "      <td>NaN</td>\n",
       "      <td>6000.000000</td>\n",
       "      <td>NaN</td>\n",
       "      <td>NaN</td>\n",
       "      <td>NaN</td>\n",
       "      <td>11.000000</td>\n",
       "      <td>8.000000</td>\n",
       "    </tr>\n",
       "    <tr>\n",
       "      <th>max</th>\n",
       "      <td>NaN</td>\n",
       "      <td>NaN</td>\n",
       "      <td>NaN</td>\n",
       "      <td>296313.850000</td>\n",
       "      <td>NaN</td>\n",
       "      <td>NaN</td>\n",
       "      <td>NaN</td>\n",
       "      <td>30.000000</td>\n",
       "      <td>39.000000</td>\n",
       "    </tr>\n",
       "  </tbody>\n",
       "</table>\n",
       "</div>"
      ],
      "text/plain": [
       "         GENDER  AGEGRP1   NGROUP           BILL   REGION    CLASS    ORGYN  \\\n",
       "count   22223.0  22223.0  22223.0   22223.000000  22223.0  22223.0  22223.0   \n",
       "unique      3.0      3.0      7.0            NaN      5.0      4.0      2.0   \n",
       "top         2.0      2.0      3.0            NaN      4.0      2.0      0.0   \n",
       "freq    12149.0  10439.0   4717.0            NaN   8829.0   8572.0  16718.0   \n",
       "mean        NaN      NaN      NaN    4420.590041      NaN      NaN      NaN   \n",
       "std         NaN      NaN      NaN    7559.047522      NaN      NaN      NaN   \n",
       "min         NaN      NaN      NaN       0.010000      NaN      NaN      NaN   \n",
       "25%         NaN      NaN      NaN       0.010000      NaN      NaN      NaN   \n",
       "50%         NaN      NaN      NaN    2000.000000      NaN      NaN      NaN   \n",
       "75%         NaN      NaN      NaN    6000.000000      NaN      NaN      NaN   \n",
       "max         NaN      NaN      NaN  296313.850000      NaN      NaN      NaN   \n",
       "\n",
       "                AFFL         LTIME  \n",
       "count   22223.000000  22223.000000  \n",
       "unique           NaN           NaN  \n",
       "top              NaN           NaN  \n",
       "freq             NaN           NaN  \n",
       "mean        8.707285      6.559735  \n",
       "std         3.395368      4.645552  \n",
       "min         1.000000      0.000000  \n",
       "25%         6.000000      4.000000  \n",
       "50%         8.000000      5.000000  \n",
       "75%        11.000000      8.000000  \n",
       "max        30.000000     39.000000  "
      ]
     },
     "execution_count": 6,
     "metadata": {},
     "output_type": "execute_result"
    }
   ],
   "source": [
    "df.describe(include='all')"
   ]
  },
  {
   "cell_type": "code",
   "execution_count": 7,
   "metadata": {},
   "outputs": [],
   "source": [
    "#Separating dataset into training data and test data\n",
    "\n",
    "X = df[['GENDER','AGEGRP1','NGROUP','BILL','AFFL','LTIME']]\n",
    "Y = df['ORGYN']\n",
    "seed = 9\n",
    "validation_size = 0.3\n",
    "X_train, X_test, Y_train, Y_test = model_selection.train_test_split(X, Y, test_size=validation_size, random_state=seed)"
   ]
  },
  {
   "cell_type": "code",
   "execution_count": 8,
   "metadata": {},
   "outputs": [],
   "source": [
    "#sampah feature\n",
    "#'CLASS'(5),'REGION'(4)\n"
   ]
  },
  {
   "cell_type": "code",
   "execution_count": 9,
   "metadata": {},
   "outputs": [
    {
     "name": "stderr",
     "output_type": "stream",
     "text": [
      "F:\\Programs\\Anaconda3\\lib\\site-packages\\sklearn\\ensemble\\forest.py:246: FutureWarning: The default value of n_estimators will change from 10 in version 0.20 to 100 in 0.22.\n",
      "  \"10 in version 0.20 to 100 in 0.22.\", FutureWarning)\n"
     ]
    },
    {
     "name": "stdout",
     "output_type": "stream",
     "text": [
      "Akurasi (training data) =  0.9542932741550018\n",
      "Akurasi (test data) =  0.7781610919454027\n",
      "[[4402  600]\n",
      " [ 879  786]]\n",
      "              precision    recall  f1-score   support\n",
      "\n",
      "           0       0.83      0.88      0.86      5002\n",
      "           1       0.57      0.47      0.52      1665\n",
      "\n",
      "   micro avg       0.78      0.78      0.78      6667\n",
      "   macro avg       0.70      0.68      0.69      6667\n",
      "weighted avg       0.77      0.78      0.77      6667\n",
      "\n"
     ]
    }
   ],
   "source": [
    "#Oversampling training data with SMOTE due to imbalance data problem\n",
    "sm=SMOTE(random_state=1)\n",
    "X1_train,Y1_train=sm.fit_resample(X_train,Y_train)\n",
    "\n",
    "#Random Forest Classifier with SMOTE\n",
    "rfs = RandomForestClassifier()\n",
    "rfs.fit(X1_train, Y1_train)\n",
    "rfs_prediction_training=rfs.predict(X1_train)\n",
    "rfs_prediction_test = rfs.predict(X_test)\n",
    "print('Akurasi (training data) = ', accuracy_score(Y1_train, rfs_prediction_training))\n",
    "print('Akurasi (test data) = ', accuracy_score(Y_test, rfs_prediction_test))\n",
    "print(confusion_matrix(Y_test, rfs_prediction_test))\n",
    "print(classification_report(Y_test, rfs_prediction_test))"
   ]
  },
  {
   "cell_type": "code",
   "execution_count": 10,
   "metadata": {},
   "outputs": [
    {
     "name": "stdout",
     "output_type": "stream",
     "text": [
      "Feature Ranking:\n",
      "1. feature 4(0.244595)\n",
      "2. feature 1(0.206291)\n",
      "3. feature 0(0.168666)\n",
      "4. feature 3(0.145931)\n",
      "5. feature 5(0.127488)\n",
      "6. feature 2(0.107029)\n"
     ]
    },
    {
     "data": {
      "image/png": "[encoded data removed]",
      "text/plain": [
       "<Figure size 432x288 with 1 Axes>"
      ]
     },
     "metadata": {
      "needs_background": "light"
     },
     "output_type": "display_data"
    }
   ],
   "source": [
    "#varibale importance\n",
    "importances = rfs.feature_importances_\n",
    "std = np.std([tree.feature_importances_ for tree in rfs.estimators_], axis= 0)\n",
    "indices = np.argsort(importances)[::-1]\n",
    "\n",
    "#print the feature ranking\n",
    "print(\"Feature Ranking:\")\n",
    "\n",
    "for f in range(X.shape[1]):\n",
    "    print(\"%d. feature %d(%f)\"% (f+1, indices[f],importances[indices[f]]))\n",
    "    \n",
    "plt.figure()\n",
    "plt.title(\"Feature importances\")\n",
    "plt.bar(range(X.shape[1]), importances[indices],color=\"r\", yerr=std[indices], align=\"center\")\n",
    "plt.xticks(range(X.shape[1]), indices) \n",
    "plt.xlim([-1, X.shape[1]]) \n",
    "plt.show()"
   ]
  },
  {
   "cell_type": "code",
   "execution_count": 11,
   "metadata": {
    "scrolled": true
   },
   "outputs": [
    {
     "name": "stdout",
     "output_type": "stream",
     "text": [
      "Akurasi (training data) =  0.8915364583333333\n",
      "Akurasi (test data) =  0.49242537873106346\n",
      "[[2053 2949]\n",
      " [ 435 1230]]\n",
      "              precision    recall  f1-score   support\n",
      "\n",
      "           0       0.83      0.41      0.55      5002\n",
      "           1       0.29      0.74      0.42      1665\n",
      "\n",
      "   micro avg       0.49      0.49      0.49      6667\n",
      "   macro avg       0.56      0.57      0.48      6667\n",
      "weighted avg       0.69      0.49      0.52      6667\n",
      "\n"
     ]
    },
    {
     "name": "stderr",
     "output_type": "stream",
     "text": [
      "F:\\Programs\\Anaconda3\\lib\\site-packages\\sklearn\\ensemble\\forest.py:246: FutureWarning: The default value of n_estimators will change from 10 in version 0.20 to 100 in 0.22.\n",
      "  \"10 in version 0.20 to 100 in 0.22.\", FutureWarning)\n"
     ]
    }
   ],
   "source": [
    "#Undersampling training data with NearMiss due to imbalance data problem\n",
    "nm = NearMiss(random_state=1)\n",
    "X2_train,Y2_train=nm.fit_resample(X_train,Y_train)\n",
    "\n",
    "#Random Forest Classifier with NearMiss\n",
    "rfnm = RandomForestClassifier()\n",
    "rfnm.fit(X2_train, Y2_train)\n",
    "rfnm_prediction_training=rfnm.predict(X2_train)\n",
    "rfnm_prediction_test = rfnm.predict(X_test)\n",
    "print('Akurasi (training data) = ', accuracy_score(Y2_train, rfnm_prediction_training))\n",
    "print('Akurasi (test data) = ', accuracy_score(Y_test, rfnm_prediction_test))\n",
    "print(confusion_matrix(Y_test, rfnm_prediction_test))\n",
    "print(classification_report(Y_test, rfnm_prediction_test))\n",
    "\n"
   ]
  },
  {
   "cell_type": "code",
   "execution_count": 13,
   "metadata": {},
   "outputs": [
    {
     "name": "stdout",
     "output_type": "stream",
     "text": [
      "Akurasi (training data) =  0.9965235669819711\n",
      "Akurasi (test data) =  0.7649617519124043\n",
      "[[4085  917]\n",
      " [ 650 1015]]\n",
      "              precision    recall  f1-score   support\n",
      "\n",
      "           0       0.86      0.82      0.84      5002\n",
      "           1       0.53      0.61      0.56      1665\n",
      "\n",
      "   micro avg       0.76      0.76      0.76      6667\n",
      "   macro avg       0.69      0.71      0.70      6667\n",
      "weighted avg       0.78      0.76      0.77      6667\n",
      "\n"
     ]
    },
    {
     "name": "stderr",
     "output_type": "stream",
     "text": [
      "F:\\Programs\\Anaconda3\\lib\\site-packages\\sklearn\\ensemble\\forest.py:246: FutureWarning: The default value of n_estimators will change from 10 in version 0.20 to 100 in 0.22.\n",
      "  \"10 in version 0.20 to 100 in 0.22.\", FutureWarning)\n"
     ]
    }
   ],
   "source": [
    "#Combination of oversampling and undersampling with SMOTEENN\n",
    "smo = SMOTEENN(random_state=1)\n",
    "X3_train,Y3_train=smo.fit_resample(X_train,Y_train)\n",
    "\n",
    "#Random Forest Classifier with SMOTEEN\n",
    "w = 10\n",
    "rfsmo = RandomForestClassifier(class_weight={0: 1, 1: w})\n",
    "\n",
    "rfsmo.fit(X3_train,Y3_train)\n",
    "rfsmo_prediction_training=rfsmo.predict(X3_train)\n",
    "rfsmo_prediction_test = rfsmo.predict(X_test)\n",
    "\n",
    "\n",
    "print('Akurasi (training data) = ', accuracy_score(Y3_train, rfsmo_prediction_training))\n",
    "print('Akurasi (test data) = ', accuracy_score(Y_test, rfsmo_prediction_test))\n",
    "print(confusion_matrix(Y_test, rfsmo_prediction_test))\n",
    "try:print(roc_auc_score(Y_test, rfsmo_prediction_test))\n",
    "except:pass\n",
    "print(classification_report(Y_test, rfsmo_prediction_test))\n",
    "\n",
    "\n",
    "#print(classification_report(Y_test, rfsmo_prediction_test))"
   ]
  },
  {
   "cell_type": "code",
   "execution_count": null,
   "metadata": {},
   "outputs": [],
   "source": []
  },
  {
   "cell_type": "code",
   "execution_count": null,
   "metadata": {},
   "outputs": [],
   "source": [
    "#varibale importance\n",
    "importances = rfsmo.feature_importances_\n",
    "std = np.std([tree.feature_importances_ for tree in rfsmo.estimators_], axis= 0)\n",
    "indices = np.argsort(importances)[::-1]\n",
    "\n",
    "#print the feature ranking\n",
    "print(\"Feature Ranking:\")\n",
    "\n",
    "for f in range(X.shape[1]):\n",
    "    print(\"%d. feature %d(%f)\"% (f+1, indices[f],importances[indices[f]]))\n",
    "    \n",
    "plt.figure()\n",
    "plt.title(\"Feature importances\")\n",
    "plt.bar(range(X.shape[1]), importances[indices],color=\"r\", yerr=std[indices], align=\"center\")\n",
    "plt.xticks(range(X.shape[1]), indices) \n",
    "plt.xlim([-1, X.shape[1]]) \n",
    "plt.show()"
   ]
  },
  {
   "cell_type": "code",
   "execution_count": null,
   "metadata": {},
   "outputs": [],
   "source": []
  },
  {
   "cell_type": "code",
   "execution_count": null,
   "metadata": {},
   "outputs": [],
   "source": []
  },
  {
   "cell_type": "code",
   "execution_count": null,
   "metadata": {},
   "outputs": [],
   "source": []
  },
  {
   "cell_type": "code",
   "execution_count": null,
   "metadata": {},
   "outputs": [],
   "source": []
  }
 ],
 "metadata": {
  "kernelspec": {
   "display_name": "Python 3",
   "language": "python",
   "name": "python3"
  },
  "language_info": {
   "codemirror_mode": {
    "name": "ipython",
    "version": 3
   },
   "file_extension": ".py",
   "mimetype": "text/x-python",
   "name": "python",
   "nbconvert_exporter": "python",
   "pygments_lexer": "ipython3",
   "version": "3.6.5"
  }
 },
 "nbformat": 4,
 "nbformat_minor": 2
}
